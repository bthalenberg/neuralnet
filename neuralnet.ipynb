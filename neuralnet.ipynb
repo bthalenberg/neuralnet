{
 "cells": [
  {
   "cell_type": "markdown",
   "metadata": {},
   "source": [
    "# Make your own neural network\n",
    "\n",
    "Código referente ao capítulo de implementação do livro Make your own neural network, de Tariq Rasheed\n"
   ]
  },
  {
   "cell_type": "code",
   "execution_count": 1,
   "metadata": {
    "collapsed": true
   },
   "outputs": [],
   "source": [
    "import matplotlib.pyplot as plt\n",
    "import numpy\n",
    "import scipy.special\n",
    "%matplotlib inline"
   ]
  },
  {
   "cell_type": "code",
   "execution_count": null,
   "metadata": {
    "collapsed": true
   },
   "outputs": [],
   "source": [
    "class NeuralNet:\n",
    "    \n",
    "    def __init__(self, nodos_in, nodos_hidden, nodos_out, taxa_aprendizado):\n",
    "        '''nodos_in é o número de nodos de input, nodos_h é o número de nodos da camada escondida\n",
    "        e nodos_out é o número de nodos de output'''\n",
    "        \n",
    "        self.nodos_in = nodos_in\n",
    "        self.nodos_h = nodos_h\n",
    "        self.nodos_o = nodos_out\n",
    "        self.aprend = taxa_aprendizado\n",
    "        \n",
    "        #matriz com os pesos entre input e camada escondida\n",
    "        self.w_ih = numpy.random.normal(0.0, pow(self.hnodes, -0.5), (self.hnodes, self.inodes))\n",
    "        \n",
    "        #matriz com os pesos entre camada escondida e output\n",
    "        self.w_ho = numpy.random.normal(0.0, pow(self.onodes, -0.5), (self.onodes, self.hnodes))\n",
    "        \n",
    "        self.sigmoide = lambda x: scipy.special.expit(x)\n",
    "    \n",
    "    def train(self, lista_input, lista_alvo):\n",
    "        \n",
    "        inputs = numpy.array(lista_input, ndmin=2).T\n",
    "        alvo = numpy.array(lista_alvo, ndmin=2).T\n",
    "       \n",
    "        #passando o input para a camada escondida\n",
    "        hidden_inputs = numpy.dot(self.w_ih, inputs)\n",
    "        #calculando o output da camada escondida\n",
    "        hidden_outputs = self.sigmoide(hidden_inputs)\n",
    "       \n",
    "        #calculando o valor que entra nos nodos de output\n",
    "        final_inputs = numpy.dot(self.who, hidden_outputs)\n",
    "        #calculando o output final\n",
    "        final_outputs = self.sigmoide(final_inputs)\n",
    "        \n",
    "        #calculando o erro\n",
    "        output_erro = alvo - final_outputs\n",
    "        \n",
    "        #backpropagation\n",
    "        #o erro da camada escondida é o output_erro, dividido por pesos, recombinado nos nodos escondidos\n",
    "        hidden_erro = numpy.dot(self.who.T, output_erro)\n",
    "        \n",
    "        #atualizando os pesos\n",
    "        self.w_ho += self.aprend * numpy.dot((output_erro * final_outputs * (1.0 - final_outputs)), numpy.transpose(hidden_outputs))\n",
    "        self.who += self.lr * numpy.dot((output_errors * final_outputs * (1.0 - final_outputs)), numpy.transpose(hidden_outputs))\n",
    "        self.wih += self.lr * numpy.dot((hidden_errors * hidden_outputs * (1.0 - hidden_outputs)), numpy.transpose(inputs)\n",
    "    \n",
    "                                        \n",
    "    def query(self, lista_input):\n",
    "        \n",
    "        #convertendo lista de inputs para array\n",
    "        inputs = numpy.array(lista_input, ndmin=2).T\n",
    "       \n",
    "        # passando o input para a camada escondida\n",
    "        hidden_inputs = numpy.dot(self.w_ih, inputs)\n",
    "        #calculando o output da camada escondida\n",
    "        hidden_outputs = self.sigmoide(hidden_inputs)\n",
    "       \n",
    "        #calculando o valor que entra nos nodos de output\n",
    "        final_inputs = numpy.dot(self.who, hidden_outputs)\n",
    "        #calculando o output final\n",
    "        final_outputs = self.sigmoide(final_inputs)\n",
    "       \n",
    "        return final_outputs\n",
    "        \n",
    "        "
   ]
  }
 ],
 "metadata": {
  "anaconda-cloud": {},
  "kernelspec": {
   "display_name": "Python [default]",
   "language": "python",
   "name": "python3"
  },
  "language_info": {
   "codemirror_mode": {
    "name": "ipython",
    "version": 3
   },
   "file_extension": ".py",
   "mimetype": "text/x-python",
   "name": "python",
   "nbconvert_exporter": "python",
   "pygments_lexer": "ipython3",
   "version": "3.5.2"
  }
 },
 "nbformat": 4,
 "nbformat_minor": 1
}
